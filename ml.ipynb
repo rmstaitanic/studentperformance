{
 "cells": [
  {
   "cell_type": "code",
   "execution_count": 16,
   "metadata": {},
   "outputs": [],
   "source": [
    "import pandas as pd\n",
    "import seaborn as sns\n",
    "import pathlib \n",
    "import matplotlib.pyplot as plt\n",
    "import numpy as np\n",
    "\n",
    "from sklearn.preprocessing import OrdinalEncoder, OneHotEncoder, LabelEncoder, StandardScaler"
   ]
  },
  {
   "cell_type": "code",
   "execution_count": 6,
   "metadata": {},
   "outputs": [],
   "source": [
    "inputpath = pathlib.Path.cwd() / 'input' / 'student-por.csv'\n",
    "df_train = pd.read_csv(inputpath)"
   ]
  },
  {
   "cell_type": "code",
   "execution_count": 7,
   "metadata": {},
   "outputs": [],
   "source": [
    "cont_columns = ['age', 'failures', 'absences', 'G1', 'G2', 'G3']\n",
    "num_columns = ['traveltime', 'studytime', 'famrel', 'freetime', 'goout', 'Dalc', 'Walc', 'health', 'Medu', 'Fedu']\n",
    "\n",
    "cat_columns = ['school', 'sex', 'address', 'famsize', 'Pstatus', 'Mjob', 'Fjob', 'reason', 'guardian', 'schoolsup', 'famsup', 'paid', 'activities', 'nursery', 'higher', 'internet', 'romantic']"
   ]
  },
  {
   "cell_type": "code",
   "execution_count": 27,
   "metadata": {},
   "outputs": [
    {
     "name": "stdout",
     "output_type": "stream",
     "text": [
      "     school  sex  age  address  famsize  Pstatus  Medu  Fedu  Mjob  Fjob  ...  \\\n",
      "0         0    0   18        1        0        0     4     4     0     4  ...   \n",
      "1         0    0   17        1        0        1     1     1     0     2  ...   \n",
      "2         0    0   15        1        1        1     1     1     0     2  ...   \n",
      "3         0    0   15        1        0        1     4     2     1     3  ...   \n",
      "4         0    0   16        1        0        1     3     3     2     2  ...   \n",
      "..      ...  ...  ...      ...      ...      ...   ...   ...   ...   ...  ...   \n",
      "644       1    0   19        0        0        1     2     3     3     2  ...   \n",
      "645       1    0   18        1        1        1     3     1     4     3  ...   \n",
      "646       1    0   18        1        0        1     1     1     2     2  ...   \n",
      "647       1    1   17        1        1        1     3     1     3     3  ...   \n",
      "648       1    1   18        0        1        1     3     2     3     2  ...   \n",
      "\n",
      "     romantic  famrel  freetime  goout  Dalc  Walc  health  absences  G1  G2  \n",
      "0           0       4         3      4     1     1       3         4   0  11  \n",
      "1           0       5         3      3     1     1       3         2   9  11  \n",
      "2           0       4         3      2     2     3       3         6  12  13  \n",
      "3           1       3         2      2     1     1       5         0  14  14  \n",
      "4           0       4         3      2     1     2       5         0  11  13  \n",
      "..        ...     ...       ...    ...   ...   ...     ...       ...  ..  ..  \n",
      "644         0       5         4      2     1     2       5         4  10  11  \n",
      "645         0       4         3      4     1     1       1         4  15  15  \n",
      "646         0       1         1      1     1     1       5         6  11  12  \n",
      "647         0       2         4      5     3     4       2         6  10  10  \n",
      "648         0       4         4      1     3     4       5         4  10  11  \n",
      "\n",
      "[649 rows x 32 columns]\n"
     ]
    }
   ],
   "source": [
    "dummy_df = df_train.copy()\n",
    "target = dummy_df.pop('G3')\n",
    "le_df = dummy_df.copy()\n",
    "\n",
    "le = LabelEncoder()\n",
    "\n",
    "for col in cat_columns:\n",
    "    le_df[col] = le.fit_transform(le_df[col])\n",
    "    dummy_df = pd.get_dummies(dummy_df,columns=[col],drop_first=True)\n",
    "\n",
    "print(le_df)"
   ]
  },
  {
   "cell_type": "code",
   "execution_count": 10,
   "metadata": {},
   "outputs": [],
   "source": [
    "from sklearn import metrics\n",
    "from sklearn.model_selection import train_test_split\n",
    "from sklearn.linear_model import LinearRegression\n",
    "from sklearn.svm import SVR\n",
    "from sklearn.ensemble import RandomForestRegressor\n",
    "from sklearn.ensemble import GradientBoostingRegressor"
   ]
  },
  {
   "cell_type": "code",
   "execution_count": 13,
   "metadata": {},
   "outputs": [],
   "source": [
    "def ml(data,target,model,pr=False):\n",
    "    X_train,X_test,y_train,y_test = train_test_split(data, target, random_state=0)\n",
    "    model.fit(X_train,y_train)\n",
    "    y_pred = model.predict(X_test)\n",
    "    mae = metrics.mean_absolute_error(y_test, y_pred)\n",
    "    mse = metrics.mean_squared_error(y_test, y_pred)\n",
    "    rmse = np.sqrt(metrics.mean_squared_error(y_test, y_pred))\n",
    "    r2_square = metrics.r2_score(y_test, y_pred)\n",
    "    if pr==True:\n",
    "        print('MAE:', mae)\n",
    "        print('MSE:', mse)\n",
    "        print('RMSE:', rmse)\n",
    "        print('R2 Square', r2_square)\n",
    "        print('__________________________________')\n",
    "    return model,mae,mse,rmse,r2_square\n",
    "\n",
    "MLA = [\n",
    "    LinearRegression(),\n",
    "    SVR(kernel='rbf'),\n",
    "    SVR(kernel='poly'),\n",
    "    GradientBoostingRegressor(),\n",
    "    RandomForestRegressor()\n",
    "]\n",
    "\n",
    "le_models = {}\n",
    "dummy_models = {}"
   ]
  },
  {
   "cell_type": "code",
   "execution_count": 17,
   "metadata": {},
   "outputs": [],
   "source": [
    "evaluation_metrics = ['MAE','MSE','RMSE','R2_Square']\n",
    "le_df_performance = pd.DataFrame(columns=evaluation_metrics)\n",
    "dummy_df_performance = pd.DataFrame(columns=evaluation_metrics)\n",
    "\n",
    "for alg in MLA:\n",
    "    le_model, le_mae, le_mse, le_rmse, le_r2_square = ml(le_df,target,alg)\n",
    "    dummy_model, dummy_mae, dummy_mse, dummy_rmse, dummy_r2_square = ml(dummy_df,target,alg)\n",
    "    \n",
    "    le_models[_name] = le_model\n",
    "    dummy_models[_name] = dummy_model\n",
    "    \n",
    "    le_df_performance = le_df_performance.append(pd.Series({'MAE':le_mae ,'MSE':le_mse ,'RMSE':le_rmse ,'R2_Square':le_r2_square},name=_name))\n",
    "    dummy_df_performance = dummy_df_performance.append(pd.Series({'MAE':dummy_mae ,'MSE':dummy_mse ,'RMSE':dummy_rmse ,'R2_Square':dummy_r2_square},name=_name))"
   ]
  },
  {
   "cell_type": "code",
   "execution_count": 18,
   "metadata": {},
   "outputs": [
    {
     "name": "stdout",
     "output_type": "stream",
     "text": [
      "Dummies Dataset\n"
     ]
    },
    {
     "data": {
      "text/html": [
       "<div>\n",
       "<style scoped>\n",
       "    .dataframe tbody tr th:only-of-type {\n",
       "        vertical-align: middle;\n",
       "    }\n",
       "\n",
       "    .dataframe tbody tr th {\n",
       "        vertical-align: top;\n",
       "    }\n",
       "\n",
       "    .dataframe thead th {\n",
       "        text-align: right;\n",
       "    }\n",
       "</style>\n",
       "<table border=\"1\" class=\"dataframe\">\n",
       "  <thead>\n",
       "    <tr style=\"text-align: right;\">\n",
       "      <th></th>\n",
       "      <th>MAE</th>\n",
       "      <th>MSE</th>\n",
       "      <th>RMSE</th>\n",
       "      <th>R2_Square</th>\n",
       "    </tr>\n",
       "  </thead>\n",
       "  <tbody>\n",
       "    <tr>\n",
       "      <th>SVR_rbf</th>\n",
       "      <td>0.806362</td>\n",
       "      <td>1.487032</td>\n",
       "      <td>1.219439</td>\n",
       "      <td>0.835249</td>\n",
       "    </tr>\n",
       "    <tr>\n",
       "      <th>RandomForestRegressor</th>\n",
       "      <td>0.808405</td>\n",
       "      <td>1.320408</td>\n",
       "      <td>1.149090</td>\n",
       "      <td>0.853710</td>\n",
       "    </tr>\n",
       "    <tr>\n",
       "      <th>LinearRegression</th>\n",
       "      <td>0.819120</td>\n",
       "      <td>1.303924</td>\n",
       "      <td>1.141895</td>\n",
       "      <td>0.855536</td>\n",
       "    </tr>\n",
       "    <tr>\n",
       "      <th>GradientBoostingRegressor</th>\n",
       "      <td>0.846680</td>\n",
       "      <td>1.515467</td>\n",
       "      <td>1.231043</td>\n",
       "      <td>0.832099</td>\n",
       "    </tr>\n",
       "    <tr>\n",
       "      <th>SVR_poly</th>\n",
       "      <td>0.857321</td>\n",
       "      <td>1.723845</td>\n",
       "      <td>1.312953</td>\n",
       "      <td>0.809012</td>\n",
       "    </tr>\n",
       "  </tbody>\n",
       "</table>\n",
       "</div>"
      ],
      "text/plain": [
       "                                MAE       MSE      RMSE  R2_Square\n",
       "SVR_rbf                    0.806362  1.487032  1.219439   0.835249\n",
       "RandomForestRegressor      0.808405  1.320408  1.149090   0.853710\n",
       "LinearRegression           0.819120  1.303924  1.141895   0.855536\n",
       "GradientBoostingRegressor  0.846680  1.515467  1.231043   0.832099\n",
       "SVR_poly                   0.857321  1.723845  1.312953   0.809012"
      ]
     },
     "metadata": {},
     "output_type": "display_data"
    },
    {
     "name": "stdout",
     "output_type": "stream",
     "text": [
      "LabelEncoder Dataset\n"
     ]
    },
    {
     "data": {
      "text/html": [
       "<div>\n",
       "<style scoped>\n",
       "    .dataframe tbody tr th:only-of-type {\n",
       "        vertical-align: middle;\n",
       "    }\n",
       "\n",
       "    .dataframe tbody tr th {\n",
       "        vertical-align: top;\n",
       "    }\n",
       "\n",
       "    .dataframe thead th {\n",
       "        text-align: right;\n",
       "    }\n",
       "</style>\n",
       "<table border=\"1\" class=\"dataframe\">\n",
       "  <thead>\n",
       "    <tr style=\"text-align: right;\">\n",
       "      <th></th>\n",
       "      <th>MAE</th>\n",
       "      <th>MSE</th>\n",
       "      <th>RMSE</th>\n",
       "      <th>R2_Square</th>\n",
       "    </tr>\n",
       "  </thead>\n",
       "  <tbody>\n",
       "    <tr>\n",
       "      <th>RandomForestRegressor</th>\n",
       "      <td>0.772577</td>\n",
       "      <td>1.134820</td>\n",
       "      <td>1.065279</td>\n",
       "      <td>0.874271</td>\n",
       "    </tr>\n",
       "    <tr>\n",
       "      <th>LinearRegression</th>\n",
       "      <td>0.799074</td>\n",
       "      <td>1.252246</td>\n",
       "      <td>1.119038</td>\n",
       "      <td>0.861261</td>\n",
       "    </tr>\n",
       "    <tr>\n",
       "      <th>SVR_rbf</th>\n",
       "      <td>0.807649</td>\n",
       "      <td>1.497811</td>\n",
       "      <td>1.223851</td>\n",
       "      <td>0.834055</td>\n",
       "    </tr>\n",
       "    <tr>\n",
       "      <th>GradientBoostingRegressor</th>\n",
       "      <td>0.824949</td>\n",
       "      <td>1.387739</td>\n",
       "      <td>1.178023</td>\n",
       "      <td>0.846250</td>\n",
       "    </tr>\n",
       "    <tr>\n",
       "      <th>SVR_poly</th>\n",
       "      <td>0.847051</td>\n",
       "      <td>1.632308</td>\n",
       "      <td>1.277618</td>\n",
       "      <td>0.819153</td>\n",
       "    </tr>\n",
       "  </tbody>\n",
       "</table>\n",
       "</div>"
      ],
      "text/plain": [
       "                                MAE       MSE      RMSE  R2_Square\n",
       "RandomForestRegressor      0.772577  1.134820  1.065279   0.874271\n",
       "LinearRegression           0.799074  1.252246  1.119038   0.861261\n",
       "SVR_rbf                    0.807649  1.497811  1.223851   0.834055\n",
       "GradientBoostingRegressor  0.824949  1.387739  1.178023   0.846250\n",
       "SVR_poly                   0.847051  1.632308  1.277618   0.819153"
      ]
     },
     "metadata": {},
     "output_type": "display_data"
    }
   ],
   "source": [
    "sortting = 'MAE'\n",
    "print('Dummies Dataset')\n",
    "display(dummy_df_performance.sort_values(sortting))\n",
    "print('LabelEncoder Dataset')\n",
    "display(le_df_performance.sort_values(sortting))"
   ]
  }
 ],
 "metadata": {
  "interpreter": {
   "hash": "1d21be950558f057833ba31092b5d3c13bf94615482a5dce88e5e5cb34e28ccf"
  },
  "kernelspec": {
   "display_name": "Python 3.9.7 64-bit ('studentperformance': conda)",
   "language": "python",
   "name": "python3"
  },
  "language_info": {
   "codemirror_mode": {
    "name": "ipython",
    "version": 3
   },
   "file_extension": ".py",
   "mimetype": "text/x-python",
   "name": "python",
   "nbconvert_exporter": "python",
   "pygments_lexer": "ipython3",
   "version": "3.9.7"
  },
  "orig_nbformat": 4
 },
 "nbformat": 4,
 "nbformat_minor": 2
}
