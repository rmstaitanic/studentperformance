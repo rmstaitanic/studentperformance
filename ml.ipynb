{
 "cells": [
  {
   "cell_type": "code",
   "execution_count": 16,
   "metadata": {},
   "outputs": [],
   "source": [
    "import pandas as pd\n",
    "import seaborn as sns\n",
    "import pathlib \n",
    "import matplotlib.pyplot as plt\n",
    "import numpy as np\n",
    "\n",
    "from sklearn.preprocessing import OrdinalEncoder, OneHotEncoder, LabelEncoder, StandardScaler"
   ]
  },
  {
   "cell_type": "code",
   "execution_count": 6,
   "metadata": {},
   "outputs": [],
   "source": [
    "inputpath = pathlib.Path.cwd() / 'input' / 'student-por.csv'\n",
    "df_train = pd.read_csv(inputpath)"
   ]
  },
  {
   "cell_type": "code",
   "execution_count": 7,
   "metadata": {},
   "outputs": [],
   "source": [
    "cont_columns = ['age', 'failures', 'absences', 'G1', 'G2', 'G3']\n",
    "num_columns = ['traveltime', 'studytime', 'famrel', 'freetime', 'goout', 'Dalc', 'Walc', 'health', 'Medu', 'Fedu']\n",
    "\n",
    "cat_columns = ['school', 'sex', 'address', 'famsize', 'Pstatus', 'Mjob', 'Fjob', 'reason', 'guardian', 'schoolsup', 'famsup', 'paid', 'activities', 'nursery', 'higher', 'internet', 'romantic']"
   ]
  },
  {
   "cell_type": "code",
   "execution_count": 24,
   "metadata": {},
   "outputs": [
    {
     "ename": "ValueError",
     "evalue": "Expected 2D array, got 1D array instead:\narray=['GP' 'GP' 'GP' 'GP' 'GP' 'GP' 'GP' 'GP' 'GP' 'GP' 'GP' 'GP' 'GP' 'GP'\n 'GP' 'GP' 'GP' 'GP' 'GP' 'GP' 'GP' 'GP' 'GP' 'GP' 'GP' 'GP' 'GP' 'GP'\n 'GP' 'GP' 'GP' 'GP' 'GP' 'GP' 'GP' 'GP' 'GP' 'GP' 'GP' 'GP' 'GP' 'GP'\n 'GP' 'GP' 'GP' 'GP' 'GP' 'GP' 'GP' 'GP' 'GP' 'GP' 'GP' 'GP' 'GP' 'GP'\n 'GP' 'GP' 'GP' 'GP' 'GP' 'GP' 'GP' 'GP' 'GP' 'GP' 'GP' 'GP' 'GP' 'GP'\n 'GP' 'GP' 'GP' 'GP' 'GP' 'GP' 'GP' 'GP' 'GP' 'GP' 'GP' 'GP' 'GP' 'GP'\n 'GP' 'GP' 'GP' 'GP' 'GP' 'GP' 'GP' 'GP' 'GP' 'GP' 'GP' 'GP' 'GP' 'GP'\n 'GP' 'GP' 'GP' 'GP' 'GP' 'GP' 'GP' 'GP' 'GP' 'GP' 'GP' 'GP' 'GP' 'GP'\n 'GP' 'GP' 'GP' 'GP' 'GP' 'GP' 'GP' 'GP' 'GP' 'GP' 'GP' 'GP' 'GP' 'GP'\n 'GP' 'GP' 'GP' 'GP' 'GP' 'GP' 'GP' 'GP' 'GP' 'GP' 'GP' 'GP' 'GP' 'GP'\n 'GP' 'GP' 'GP' 'GP' 'GP' 'GP' 'GP' 'GP' 'GP' 'GP' 'GP' 'GP' 'GP' 'GP'\n 'GP' 'GP' 'GP' 'GP' 'GP' 'GP' 'GP' 'GP' 'GP' 'GP' 'GP' 'GP' 'GP' 'GP'\n 'GP' 'GP' 'GP' 'GP' 'GP' 'GP' 'GP' 'GP' 'GP' 'GP' 'GP' 'GP' 'GP' 'GP'\n 'GP' 'GP' 'GP' 'GP' 'GP' 'GP' 'GP' 'GP' 'GP' 'GP' 'GP' 'GP' 'GP' 'GP'\n 'GP' 'GP' 'GP' 'GP' 'GP' 'GP' 'GP' 'GP' 'GP' 'GP' 'GP' 'GP' 'GP' 'GP'\n 'GP' 'GP' 'GP' 'GP' 'GP' 'GP' 'GP' 'GP' 'GP' 'GP' 'GP' 'GP' 'GP' 'GP'\n 'GP' 'GP' 'GP' 'GP' 'GP' 'GP' 'GP' 'GP' 'GP' 'GP' 'GP' 'GP' 'GP' 'GP'\n 'GP' 'GP' 'GP' 'GP' 'GP' 'GP' 'GP' 'GP' 'GP' 'GP' 'GP' 'GP' 'GP' 'GP'\n 'GP' 'GP' 'GP' 'GP' 'GP' 'GP' 'GP' 'GP' 'GP' 'GP' 'GP' 'GP' 'GP' 'GP'\n 'GP' 'GP' 'GP' 'GP' 'GP' 'GP' 'GP' 'GP' 'GP' 'GP' 'GP' 'GP' 'GP' 'GP'\n 'GP' 'GP' 'GP' 'GP' 'GP' 'GP' 'GP' 'GP' 'GP' 'GP' 'GP' 'GP' 'GP' 'GP'\n 'GP' 'GP' 'GP' 'GP' 'GP' 'GP' 'GP' 'GP' 'GP' 'GP' 'GP' 'GP' 'GP' 'GP'\n 'GP' 'GP' 'GP' 'GP' 'GP' 'GP' 'GP' 'GP' 'GP' 'GP' 'GP' 'GP' 'GP' 'GP'\n 'GP' 'GP' 'GP' 'GP' 'GP' 'GP' 'GP' 'GP' 'GP' 'GP' 'GP' 'GP' 'GP' 'GP'\n 'GP' 'GP' 'GP' 'GP' 'GP' 'GP' 'GP' 'GP' 'GP' 'GP' 'GP' 'GP' 'GP' 'GP'\n 'GP' 'GP' 'GP' 'GP' 'GP' 'GP' 'GP' 'GP' 'GP' 'GP' 'GP' 'GP' 'GP' 'GP'\n 'GP' 'GP' 'GP' 'GP' 'GP' 'GP' 'GP' 'GP' 'GP' 'GP' 'GP' 'GP' 'GP' 'GP'\n 'GP' 'GP' 'GP' 'GP' 'GP' 'GP' 'GP' 'GP' 'GP' 'GP' 'GP' 'GP' 'GP' 'GP'\n 'GP' 'GP' 'GP' 'GP' 'GP' 'GP' 'GP' 'GP' 'GP' 'GP' 'GP' 'GP' 'GP' 'GP'\n 'GP' 'GP' 'GP' 'GP' 'GP' 'GP' 'GP' 'GP' 'GP' 'GP' 'GP' 'GP' 'GP' 'GP'\n 'GP' 'GP' 'GP' 'MS' 'MS' 'MS' 'MS' 'MS' 'MS' 'MS' 'MS' 'MS' 'MS' 'MS'\n 'MS' 'MS' 'MS' 'MS' 'MS' 'MS' 'MS' 'MS' 'MS' 'MS' 'MS' 'MS' 'MS' 'MS'\n 'MS' 'MS' 'MS' 'MS' 'MS' 'MS' 'MS' 'MS' 'MS' 'MS' 'MS' 'MS' 'MS' 'MS'\n 'MS' 'MS' 'MS' 'MS' 'MS' 'MS' 'MS' 'MS' 'MS' 'MS' 'MS' 'MS' 'MS' 'MS'\n 'MS' 'MS' 'MS' 'MS' 'MS' 'MS' 'MS' 'MS' 'MS' 'MS' 'MS' 'MS' 'MS' 'MS'\n 'MS' 'MS' 'MS' 'MS' 'MS' 'MS' 'MS' 'MS' 'MS' 'MS' 'MS' 'MS' 'MS' 'MS'\n 'MS' 'MS' 'MS' 'MS' 'MS' 'MS' 'MS' 'MS' 'MS' 'MS' 'MS' 'MS' 'MS' 'MS'\n 'MS' 'MS' 'MS' 'MS' 'MS' 'MS' 'MS' 'MS' 'MS' 'MS' 'MS' 'MS' 'MS' 'MS'\n 'MS' 'MS' 'MS' 'MS' 'MS' 'MS' 'MS' 'MS' 'MS' 'MS' 'MS' 'MS' 'MS' 'MS'\n 'MS' 'MS' 'MS' 'MS' 'MS' 'MS' 'MS' 'MS' 'MS' 'MS' 'MS' 'MS' 'MS' 'MS'\n 'MS' 'MS' 'MS' 'MS' 'MS' 'MS' 'MS' 'MS' 'MS' 'MS' 'MS' 'MS' 'MS' 'MS'\n 'MS' 'MS' 'MS' 'MS' 'MS' 'MS' 'MS' 'MS' 'MS' 'MS' 'MS' 'MS' 'MS' 'MS'\n 'MS' 'MS' 'MS' 'MS' 'MS' 'MS' 'MS' 'MS' 'MS' 'MS' 'MS' 'MS' 'MS' 'MS'\n 'MS' 'MS' 'MS' 'MS' 'MS' 'MS' 'MS' 'MS' 'MS' 'MS' 'MS' 'MS' 'MS' 'MS'\n 'MS' 'MS' 'MS' 'MS' 'MS' 'MS' 'MS' 'MS' 'MS' 'MS' 'MS' 'MS' 'MS' 'MS'\n 'MS' 'MS' 'MS' 'MS' 'MS' 'MS' 'MS' 'MS' 'MS' 'MS' 'MS' 'MS' 'MS' 'MS'\n 'MS' 'MS' 'MS' 'MS' 'MS'].\nReshape your data either using array.reshape(-1, 1) if your data has a single feature or array.reshape(1, -1) if it contains a single sample.",
     "output_type": "error",
     "traceback": [
      "\u001b[1;31m---------------------------------------------------------------------------\u001b[0m",
      "\u001b[1;31mValueError\u001b[0m                                Traceback (most recent call last)",
      "\u001b[1;32m~\\AppData\\Local\\Temp/ipykernel_2256/643680072.py\u001b[0m in \u001b[0;36m<module>\u001b[1;34m\u001b[0m\n\u001b[0;32m      6\u001b[0m \u001b[1;33m\u001b[0m\u001b[0m\n\u001b[0;32m      7\u001b[0m \u001b[1;32mfor\u001b[0m \u001b[0mcol\u001b[0m \u001b[1;32min\u001b[0m \u001b[0mcat_columns\u001b[0m\u001b[1;33m:\u001b[0m\u001b[1;33m\u001b[0m\u001b[1;33m\u001b[0m\u001b[0m\n\u001b[1;32m----> 8\u001b[1;33m     \u001b[0mle_df\u001b[0m\u001b[1;33m[\u001b[0m\u001b[0mcol\u001b[0m\u001b[1;33m]\u001b[0m \u001b[1;33m=\u001b[0m \u001b[0mle\u001b[0m\u001b[1;33m.\u001b[0m\u001b[0mfit_transform\u001b[0m\u001b[1;33m(\u001b[0m\u001b[0mle_df\u001b[0m\u001b[1;33m[\u001b[0m\u001b[0mcol\u001b[0m\u001b[1;33m]\u001b[0m\u001b[1;33m)\u001b[0m\u001b[1;33m\u001b[0m\u001b[1;33m\u001b[0m\u001b[0m\n\u001b[0m\u001b[0;32m      9\u001b[0m     \u001b[0mdummy_df\u001b[0m \u001b[1;33m=\u001b[0m \u001b[0mpd\u001b[0m\u001b[1;33m.\u001b[0m\u001b[0mget_dummies\u001b[0m\u001b[1;33m(\u001b[0m\u001b[0mdummy_df\u001b[0m\u001b[1;33m,\u001b[0m\u001b[0mcolumns\u001b[0m\u001b[1;33m=\u001b[0m\u001b[1;33m[\u001b[0m\u001b[0mcol\u001b[0m\u001b[1;33m]\u001b[0m\u001b[1;33m,\u001b[0m\u001b[0mdrop_first\u001b[0m\u001b[1;33m=\u001b[0m\u001b[1;32mTrue\u001b[0m\u001b[1;33m)\u001b[0m\u001b[1;33m\u001b[0m\u001b[1;33m\u001b[0m\u001b[0m\n\u001b[0;32m     10\u001b[0m \u001b[1;33m\u001b[0m\u001b[0m\n",
      "\u001b[1;32m~\\miniconda3\\envs\\studentperformance\\lib\\site-packages\\sklearn\\base.py\u001b[0m in \u001b[0;36mfit_transform\u001b[1;34m(self, X, y, **fit_params)\u001b[0m\n\u001b[0;32m    845\u001b[0m         \u001b[1;32mif\u001b[0m \u001b[0my\u001b[0m \u001b[1;32mis\u001b[0m \u001b[1;32mNone\u001b[0m\u001b[1;33m:\u001b[0m\u001b[1;33m\u001b[0m\u001b[1;33m\u001b[0m\u001b[0m\n\u001b[0;32m    846\u001b[0m             \u001b[1;31m# fit method of arity 1 (unsupervised transformation)\u001b[0m\u001b[1;33m\u001b[0m\u001b[1;33m\u001b[0m\u001b[0m\n\u001b[1;32m--> 847\u001b[1;33m             \u001b[1;32mreturn\u001b[0m \u001b[0mself\u001b[0m\u001b[1;33m.\u001b[0m\u001b[0mfit\u001b[0m\u001b[1;33m(\u001b[0m\u001b[0mX\u001b[0m\u001b[1;33m,\u001b[0m \u001b[1;33m**\u001b[0m\u001b[0mfit_params\u001b[0m\u001b[1;33m)\u001b[0m\u001b[1;33m.\u001b[0m\u001b[0mtransform\u001b[0m\u001b[1;33m(\u001b[0m\u001b[0mX\u001b[0m\u001b[1;33m)\u001b[0m\u001b[1;33m\u001b[0m\u001b[1;33m\u001b[0m\u001b[0m\n\u001b[0m\u001b[0;32m    848\u001b[0m         \u001b[1;32melse\u001b[0m\u001b[1;33m:\u001b[0m\u001b[1;33m\u001b[0m\u001b[1;33m\u001b[0m\u001b[0m\n\u001b[0;32m    849\u001b[0m             \u001b[1;31m# fit method of arity 2 (supervised transformation)\u001b[0m\u001b[1;33m\u001b[0m\u001b[1;33m\u001b[0m\u001b[0m\n",
      "\u001b[1;32m~\\miniconda3\\envs\\studentperformance\\lib\\site-packages\\sklearn\\preprocessing\\_encoders.py\u001b[0m in \u001b[0;36mfit\u001b[1;34m(self, X, y)\u001b[0m\n\u001b[0;32m    884\u001b[0m \u001b[1;33m\u001b[0m\u001b[0m\n\u001b[0;32m    885\u001b[0m         \u001b[1;31m# `_fit` will only raise an error when `self.handle_unknown=\"error\"`\u001b[0m\u001b[1;33m\u001b[0m\u001b[1;33m\u001b[0m\u001b[0m\n\u001b[1;32m--> 886\u001b[1;33m         \u001b[0mself\u001b[0m\u001b[1;33m.\u001b[0m\u001b[0m_fit\u001b[0m\u001b[1;33m(\u001b[0m\u001b[0mX\u001b[0m\u001b[1;33m,\u001b[0m \u001b[0mhandle_unknown\u001b[0m\u001b[1;33m=\u001b[0m\u001b[0mself\u001b[0m\u001b[1;33m.\u001b[0m\u001b[0mhandle_unknown\u001b[0m\u001b[1;33m,\u001b[0m \u001b[0mforce_all_finite\u001b[0m\u001b[1;33m=\u001b[0m\u001b[1;34m\"allow-nan\"\u001b[0m\u001b[1;33m)\u001b[0m\u001b[1;33m\u001b[0m\u001b[1;33m\u001b[0m\u001b[0m\n\u001b[0m\u001b[0;32m    887\u001b[0m \u001b[1;33m\u001b[0m\u001b[0m\n\u001b[0;32m    888\u001b[0m         \u001b[1;32mif\u001b[0m \u001b[0mself\u001b[0m\u001b[1;33m.\u001b[0m\u001b[0mhandle_unknown\u001b[0m \u001b[1;33m==\u001b[0m \u001b[1;34m\"use_encoded_value\"\u001b[0m\u001b[1;33m:\u001b[0m\u001b[1;33m\u001b[0m\u001b[1;33m\u001b[0m\u001b[0m\n",
      "\u001b[1;32m~\\miniconda3\\envs\\studentperformance\\lib\\site-packages\\sklearn\\preprocessing\\_encoders.py\u001b[0m in \u001b[0;36m_fit\u001b[1;34m(self, X, handle_unknown, force_all_finite)\u001b[0m\n\u001b[0;32m     75\u001b[0m         \u001b[0mself\u001b[0m\u001b[1;33m.\u001b[0m\u001b[0m_check_n_features\u001b[0m\u001b[1;33m(\u001b[0m\u001b[0mX\u001b[0m\u001b[1;33m,\u001b[0m \u001b[0mreset\u001b[0m\u001b[1;33m=\u001b[0m\u001b[1;32mTrue\u001b[0m\u001b[1;33m)\u001b[0m\u001b[1;33m\u001b[0m\u001b[1;33m\u001b[0m\u001b[0m\n\u001b[0;32m     76\u001b[0m         \u001b[0mself\u001b[0m\u001b[1;33m.\u001b[0m\u001b[0m_check_feature_names\u001b[0m\u001b[1;33m(\u001b[0m\u001b[0mX\u001b[0m\u001b[1;33m,\u001b[0m \u001b[0mreset\u001b[0m\u001b[1;33m=\u001b[0m\u001b[1;32mTrue\u001b[0m\u001b[1;33m)\u001b[0m\u001b[1;33m\u001b[0m\u001b[1;33m\u001b[0m\u001b[0m\n\u001b[1;32m---> 77\u001b[1;33m         X_list, n_samples, n_features = self._check_X(\n\u001b[0m\u001b[0;32m     78\u001b[0m             \u001b[0mX\u001b[0m\u001b[1;33m,\u001b[0m \u001b[0mforce_all_finite\u001b[0m\u001b[1;33m=\u001b[0m\u001b[0mforce_all_finite\u001b[0m\u001b[1;33m\u001b[0m\u001b[1;33m\u001b[0m\u001b[0m\n\u001b[0;32m     79\u001b[0m         )\n",
      "\u001b[1;32m~\\miniconda3\\envs\\studentperformance\\lib\\site-packages\\sklearn\\preprocessing\\_encoders.py\u001b[0m in \u001b[0;36m_check_X\u001b[1;34m(self, X, force_all_finite)\u001b[0m\n\u001b[0;32m     42\u001b[0m         \u001b[1;32mif\u001b[0m \u001b[1;32mnot\u001b[0m \u001b[1;33m(\u001b[0m\u001b[0mhasattr\u001b[0m\u001b[1;33m(\u001b[0m\u001b[0mX\u001b[0m\u001b[1;33m,\u001b[0m \u001b[1;34m\"iloc\"\u001b[0m\u001b[1;33m)\u001b[0m \u001b[1;32mand\u001b[0m \u001b[0mgetattr\u001b[0m\u001b[1;33m(\u001b[0m\u001b[0mX\u001b[0m\u001b[1;33m,\u001b[0m \u001b[1;34m\"ndim\"\u001b[0m\u001b[1;33m,\u001b[0m \u001b[1;36m0\u001b[0m\u001b[1;33m)\u001b[0m \u001b[1;33m==\u001b[0m \u001b[1;36m2\u001b[0m\u001b[1;33m)\u001b[0m\u001b[1;33m:\u001b[0m\u001b[1;33m\u001b[0m\u001b[1;33m\u001b[0m\u001b[0m\n\u001b[0;32m     43\u001b[0m             \u001b[1;31m# if not a dataframe, do normal check_array validation\u001b[0m\u001b[1;33m\u001b[0m\u001b[1;33m\u001b[0m\u001b[0m\n\u001b[1;32m---> 44\u001b[1;33m             \u001b[0mX_temp\u001b[0m \u001b[1;33m=\u001b[0m \u001b[0mcheck_array\u001b[0m\u001b[1;33m(\u001b[0m\u001b[0mX\u001b[0m\u001b[1;33m,\u001b[0m \u001b[0mdtype\u001b[0m\u001b[1;33m=\u001b[0m\u001b[1;32mNone\u001b[0m\u001b[1;33m,\u001b[0m \u001b[0mforce_all_finite\u001b[0m\u001b[1;33m=\u001b[0m\u001b[0mforce_all_finite\u001b[0m\u001b[1;33m)\u001b[0m\u001b[1;33m\u001b[0m\u001b[1;33m\u001b[0m\u001b[0m\n\u001b[0m\u001b[0;32m     45\u001b[0m             \u001b[1;32mif\u001b[0m \u001b[1;32mnot\u001b[0m \u001b[0mhasattr\u001b[0m\u001b[1;33m(\u001b[0m\u001b[0mX\u001b[0m\u001b[1;33m,\u001b[0m \u001b[1;34m\"dtype\"\u001b[0m\u001b[1;33m)\u001b[0m \u001b[1;32mand\u001b[0m \u001b[0mnp\u001b[0m\u001b[1;33m.\u001b[0m\u001b[0missubdtype\u001b[0m\u001b[1;33m(\u001b[0m\u001b[0mX_temp\u001b[0m\u001b[1;33m.\u001b[0m\u001b[0mdtype\u001b[0m\u001b[1;33m,\u001b[0m \u001b[0mnp\u001b[0m\u001b[1;33m.\u001b[0m\u001b[0mstr_\u001b[0m\u001b[1;33m)\u001b[0m\u001b[1;33m:\u001b[0m\u001b[1;33m\u001b[0m\u001b[1;33m\u001b[0m\u001b[0m\n\u001b[0;32m     46\u001b[0m                 \u001b[0mX\u001b[0m \u001b[1;33m=\u001b[0m \u001b[0mcheck_array\u001b[0m\u001b[1;33m(\u001b[0m\u001b[0mX\u001b[0m\u001b[1;33m,\u001b[0m \u001b[0mdtype\u001b[0m\u001b[1;33m=\u001b[0m\u001b[0mobject\u001b[0m\u001b[1;33m,\u001b[0m \u001b[0mforce_all_finite\u001b[0m\u001b[1;33m=\u001b[0m\u001b[0mforce_all_finite\u001b[0m\u001b[1;33m)\u001b[0m\u001b[1;33m\u001b[0m\u001b[1;33m\u001b[0m\u001b[0m\n",
      "\u001b[1;32m~\\miniconda3\\envs\\studentperformance\\lib\\site-packages\\sklearn\\utils\\validation.py\u001b[0m in \u001b[0;36mcheck_array\u001b[1;34m(array, accept_sparse, accept_large_sparse, dtype, order, copy, force_all_finite, ensure_2d, allow_nd, ensure_min_samples, ensure_min_features, estimator)\u001b[0m\n\u001b[0;32m    759\u001b[0m             \u001b[1;31m# If input is 1D raise error\u001b[0m\u001b[1;33m\u001b[0m\u001b[1;33m\u001b[0m\u001b[0m\n\u001b[0;32m    760\u001b[0m             \u001b[1;32mif\u001b[0m \u001b[0marray\u001b[0m\u001b[1;33m.\u001b[0m\u001b[0mndim\u001b[0m \u001b[1;33m==\u001b[0m \u001b[1;36m1\u001b[0m\u001b[1;33m:\u001b[0m\u001b[1;33m\u001b[0m\u001b[1;33m\u001b[0m\u001b[0m\n\u001b[1;32m--> 761\u001b[1;33m                 raise ValueError(\n\u001b[0m\u001b[0;32m    762\u001b[0m                     \u001b[1;34m\"Expected 2D array, got 1D array instead:\\narray={}.\\n\"\u001b[0m\u001b[1;33m\u001b[0m\u001b[1;33m\u001b[0m\u001b[0m\n\u001b[0;32m    763\u001b[0m                     \u001b[1;34m\"Reshape your data either using array.reshape(-1, 1) if \"\u001b[0m\u001b[1;33m\u001b[0m\u001b[1;33m\u001b[0m\u001b[0m\n",
      "\u001b[1;31mValueError\u001b[0m: Expected 2D array, got 1D array instead:\narray=['GP' 'GP' 'GP' 'GP' 'GP' 'GP' 'GP' 'GP' 'GP' 'GP' 'GP' 'GP' 'GP' 'GP'\n 'GP' 'GP' 'GP' 'GP' 'GP' 'GP' 'GP' 'GP' 'GP' 'GP' 'GP' 'GP' 'GP' 'GP'\n 'GP' 'GP' 'GP' 'GP' 'GP' 'GP' 'GP' 'GP' 'GP' 'GP' 'GP' 'GP' 'GP' 'GP'\n 'GP' 'GP' 'GP' 'GP' 'GP' 'GP' 'GP' 'GP' 'GP' 'GP' 'GP' 'GP' 'GP' 'GP'\n 'GP' 'GP' 'GP' 'GP' 'GP' 'GP' 'GP' 'GP' 'GP' 'GP' 'GP' 'GP' 'GP' 'GP'\n 'GP' 'GP' 'GP' 'GP' 'GP' 'GP' 'GP' 'GP' 'GP' 'GP' 'GP' 'GP' 'GP' 'GP'\n 'GP' 'GP' 'GP' 'GP' 'GP' 'GP' 'GP' 'GP' 'GP' 'GP' 'GP' 'GP' 'GP' 'GP'\n 'GP' 'GP' 'GP' 'GP' 'GP' 'GP' 'GP' 'GP' 'GP' 'GP' 'GP' 'GP' 'GP' 'GP'\n 'GP' 'GP' 'GP' 'GP' 'GP' 'GP' 'GP' 'GP' 'GP' 'GP' 'GP' 'GP' 'GP' 'GP'\n 'GP' 'GP' 'GP' 'GP' 'GP' 'GP' 'GP' 'GP' 'GP' 'GP' 'GP' 'GP' 'GP' 'GP'\n 'GP' 'GP' 'GP' 'GP' 'GP' 'GP' 'GP' 'GP' 'GP' 'GP' 'GP' 'GP' 'GP' 'GP'\n 'GP' 'GP' 'GP' 'GP' 'GP' 'GP' 'GP' 'GP' 'GP' 'GP' 'GP' 'GP' 'GP' 'GP'\n 'GP' 'GP' 'GP' 'GP' 'GP' 'GP' 'GP' 'GP' 'GP' 'GP' 'GP' 'GP' 'GP' 'GP'\n 'GP' 'GP' 'GP' 'GP' 'GP' 'GP' 'GP' 'GP' 'GP' 'GP' 'GP' 'GP' 'GP' 'GP'\n 'GP' 'GP' 'GP' 'GP' 'GP' 'GP' 'GP' 'GP' 'GP' 'GP' 'GP' 'GP' 'GP' 'GP'\n 'GP' 'GP' 'GP' 'GP' 'GP' 'GP' 'GP' 'GP' 'GP' 'GP' 'GP' 'GP' 'GP' 'GP'\n 'GP' 'GP' 'GP' 'GP' 'GP' 'GP' 'GP' 'GP' 'GP' 'GP' 'GP' 'GP' 'GP' 'GP'\n 'GP' 'GP' 'GP' 'GP' 'GP' 'GP' 'GP' 'GP' 'GP' 'GP' 'GP' 'GP' 'GP' 'GP'\n 'GP' 'GP' 'GP' 'GP' 'GP' 'GP' 'GP' 'GP' 'GP' 'GP' 'GP' 'GP' 'GP' 'GP'\n 'GP' 'GP' 'GP' 'GP' 'GP' 'GP' 'GP' 'GP' 'GP' 'GP' 'GP' 'GP' 'GP' 'GP'\n 'GP' 'GP' 'GP' 'GP' 'GP' 'GP' 'GP' 'GP' 'GP' 'GP' 'GP' 'GP' 'GP' 'GP'\n 'GP' 'GP' 'GP' 'GP' 'GP' 'GP' 'GP' 'GP' 'GP' 'GP' 'GP' 'GP' 'GP' 'GP'\n 'GP' 'GP' 'GP' 'GP' 'GP' 'GP' 'GP' 'GP' 'GP' 'GP' 'GP' 'GP' 'GP' 'GP'\n 'GP' 'GP' 'GP' 'GP' 'GP' 'GP' 'GP' 'GP' 'GP' 'GP' 'GP' 'GP' 'GP' 'GP'\n 'GP' 'GP' 'GP' 'GP' 'GP' 'GP' 'GP' 'GP' 'GP' 'GP' 'GP' 'GP' 'GP' 'GP'\n 'GP' 'GP' 'GP' 'GP' 'GP' 'GP' 'GP' 'GP' 'GP' 'GP' 'GP' 'GP' 'GP' 'GP'\n 'GP' 'GP' 'GP' 'GP' 'GP' 'GP' 'GP' 'GP' 'GP' 'GP' 'GP' 'GP' 'GP' 'GP'\n 'GP' 'GP' 'GP' 'GP' 'GP' 'GP' 'GP' 'GP' 'GP' 'GP' 'GP' 'GP' 'GP' 'GP'\n 'GP' 'GP' 'GP' 'GP' 'GP' 'GP' 'GP' 'GP' 'GP' 'GP' 'GP' 'GP' 'GP' 'GP'\n 'GP' 'GP' 'GP' 'GP' 'GP' 'GP' 'GP' 'GP' 'GP' 'GP' 'GP' 'GP' 'GP' 'GP'\n 'GP' 'GP' 'GP' 'MS' 'MS' 'MS' 'MS' 'MS' 'MS' 'MS' 'MS' 'MS' 'MS' 'MS'\n 'MS' 'MS' 'MS' 'MS' 'MS' 'MS' 'MS' 'MS' 'MS' 'MS' 'MS' 'MS' 'MS' 'MS'\n 'MS' 'MS' 'MS' 'MS' 'MS' 'MS' 'MS' 'MS' 'MS' 'MS' 'MS' 'MS' 'MS' 'MS'\n 'MS' 'MS' 'MS' 'MS' 'MS' 'MS' 'MS' 'MS' 'MS' 'MS' 'MS' 'MS' 'MS' 'MS'\n 'MS' 'MS' 'MS' 'MS' 'MS' 'MS' 'MS' 'MS' 'MS' 'MS' 'MS' 'MS' 'MS' 'MS'\n 'MS' 'MS' 'MS' 'MS' 'MS' 'MS' 'MS' 'MS' 'MS' 'MS' 'MS' 'MS' 'MS' 'MS'\n 'MS' 'MS' 'MS' 'MS' 'MS' 'MS' 'MS' 'MS' 'MS' 'MS' 'MS' 'MS' 'MS' 'MS'\n 'MS' 'MS' 'MS' 'MS' 'MS' 'MS' 'MS' 'MS' 'MS' 'MS' 'MS' 'MS' 'MS' 'MS'\n 'MS' 'MS' 'MS' 'MS' 'MS' 'MS' 'MS' 'MS' 'MS' 'MS' 'MS' 'MS' 'MS' 'MS'\n 'MS' 'MS' 'MS' 'MS' 'MS' 'MS' 'MS' 'MS' 'MS' 'MS' 'MS' 'MS' 'MS' 'MS'\n 'MS' 'MS' 'MS' 'MS' 'MS' 'MS' 'MS' 'MS' 'MS' 'MS' 'MS' 'MS' 'MS' 'MS'\n 'MS' 'MS' 'MS' 'MS' 'MS' 'MS' 'MS' 'MS' 'MS' 'MS' 'MS' 'MS' 'MS' 'MS'\n 'MS' 'MS' 'MS' 'MS' 'MS' 'MS' 'MS' 'MS' 'MS' 'MS' 'MS' 'MS' 'MS' 'MS'\n 'MS' 'MS' 'MS' 'MS' 'MS' 'MS' 'MS' 'MS' 'MS' 'MS' 'MS' 'MS' 'MS' 'MS'\n 'MS' 'MS' 'MS' 'MS' 'MS' 'MS' 'MS' 'MS' 'MS' 'MS' 'MS' 'MS' 'MS' 'MS'\n 'MS' 'MS' 'MS' 'MS' 'MS' 'MS' 'MS' 'MS' 'MS' 'MS' 'MS' 'MS' 'MS' 'MS'\n 'MS' 'MS' 'MS' 'MS' 'MS'].\nReshape your data either using array.reshape(-1, 1) if your data has a single feature or array.reshape(1, -1) if it contains a single sample."
     ]
    }
   ],
   "source": [
    "dummy_df = df_train.copy()\n",
    "target = dummy_df.pop('G3')\n",
    "le_df = dummy_df.copy()\n",
    "\n",
    "le = OrdinalEncoder()\n",
    "\n",
    "for col in cat_columns:\n",
    "    le_df[col] = le.fit_transform(le_df[col])\n",
    "    dummy_df = pd.get_dummies(dummy_df,columns=[col],drop_first=True)\n",
    "\n",
    "print(le_df)"
   ]
  },
  {
   "cell_type": "code",
   "execution_count": 10,
   "metadata": {},
   "outputs": [],
   "source": [
    "from sklearn import metrics\n",
    "from sklearn.model_selection import train_test_split\n",
    "from sklearn.linear_model import LinearRegression\n",
    "from sklearn.svm import SVR\n",
    "from sklearn.ensemble import RandomForestRegressor\n",
    "from sklearn.ensemble import GradientBoostingRegressor"
   ]
  },
  {
   "cell_type": "code",
   "execution_count": 13,
   "metadata": {},
   "outputs": [],
   "source": [
    "def ml(data,target,model,pr=False):\n",
    "    X_train,X_test,y_train,y_test = train_test_split(data, target, random_state=0)\n",
    "    model.fit(X_train,y_train)\n",
    "    y_pred = model.predict(X_test)\n",
    "    mae = metrics.mean_absolute_error(y_test, y_pred)\n",
    "    mse = metrics.mean_squared_error(y_test, y_pred)\n",
    "    rmse = np.sqrt(metrics.mean_squared_error(y_test, y_pred))\n",
    "    r2_square = metrics.r2_score(y_test, y_pred)\n",
    "    if pr==True:\n",
    "        print('MAE:', mae)\n",
    "        print('MSE:', mse)\n",
    "        print('RMSE:', rmse)\n",
    "        print('R2 Square', r2_square)\n",
    "        print('__________________________________')\n",
    "    return model,mae,mse,rmse,r2_square\n",
    "\n",
    "MLA = [\n",
    "    LinearRegression(),\n",
    "    SVR(kernel='rbf'),\n",
    "    SVR(kernel='poly'),\n",
    "    GradientBoostingRegressor(),\n",
    "    RandomForestRegressor()\n",
    "]\n",
    "\n",
    "le_models = {}\n",
    "dummy_models = {}"
   ]
  },
  {
   "cell_type": "code",
   "execution_count": 17,
   "metadata": {},
   "outputs": [],
   "source": [
    "evaluation_metrics = ['MAE','MSE','RMSE','R2_Square']\n",
    "le_df_performance = pd.DataFrame(columns=evaluation_metrics)\n",
    "dummy_df_performance = pd.DataFrame(columns=evaluation_metrics)\n",
    "\n",
    "for alg in MLA:\n",
    "    _name = alg.__class__.__name__\n",
    "    if _name == 'SVR':\n",
    "        _name = f'{_name}_{alg.kernel}'\n",
    "    \n",
    "    le_model, le_mae, le_mse, le_rmse, le_r2_square = ml(le_df,target,alg)\n",
    "    dummy_model, dummy_mae, dummy_mse, dummy_rmse, dummy_r2_square = ml(dummy_df,target,alg)\n",
    "    \n",
    "    le_models[_name] = le_model\n",
    "    dummy_models[_name] = dummy_model\n",
    "    \n",
    "    le_df_performance = le_df_performance.append(pd.Series({'MAE':le_mae ,'MSE':le_mse ,'RMSE':le_rmse ,'R2_Square':le_r2_square},name=_name))\n",
    "    dummy_df_performance = dummy_df_performance.append(pd.Series({'MAE':dummy_mae ,'MSE':dummy_mse ,'RMSE':dummy_rmse ,'R2_Square':dummy_r2_square},name=_name))"
   ]
  },
  {
   "cell_type": "code",
   "execution_count": 18,
   "metadata": {},
   "outputs": [
    {
     "name": "stdout",
     "output_type": "stream",
     "text": [
      "Dummies Dataset\n"
     ]
    },
    {
     "data": {
      "text/html": [
       "<div>\n",
       "<style scoped>\n",
       "    .dataframe tbody tr th:only-of-type {\n",
       "        vertical-align: middle;\n",
       "    }\n",
       "\n",
       "    .dataframe tbody tr th {\n",
       "        vertical-align: top;\n",
       "    }\n",
       "\n",
       "    .dataframe thead th {\n",
       "        text-align: right;\n",
       "    }\n",
       "</style>\n",
       "<table border=\"1\" class=\"dataframe\">\n",
       "  <thead>\n",
       "    <tr style=\"text-align: right;\">\n",
       "      <th></th>\n",
       "      <th>MAE</th>\n",
       "      <th>MSE</th>\n",
       "      <th>RMSE</th>\n",
       "      <th>R2_Square</th>\n",
       "    </tr>\n",
       "  </thead>\n",
       "  <tbody>\n",
       "    <tr>\n",
       "      <th>SVR_rbf</th>\n",
       "      <td>0.806362</td>\n",
       "      <td>1.487032</td>\n",
       "      <td>1.219439</td>\n",
       "      <td>0.835249</td>\n",
       "    </tr>\n",
       "    <tr>\n",
       "      <th>RandomForestRegressor</th>\n",
       "      <td>0.808405</td>\n",
       "      <td>1.320408</td>\n",
       "      <td>1.149090</td>\n",
       "      <td>0.853710</td>\n",
       "    </tr>\n",
       "    <tr>\n",
       "      <th>LinearRegression</th>\n",
       "      <td>0.819120</td>\n",
       "      <td>1.303924</td>\n",
       "      <td>1.141895</td>\n",
       "      <td>0.855536</td>\n",
       "    </tr>\n",
       "    <tr>\n",
       "      <th>GradientBoostingRegressor</th>\n",
       "      <td>0.846680</td>\n",
       "      <td>1.515467</td>\n",
       "      <td>1.231043</td>\n",
       "      <td>0.832099</td>\n",
       "    </tr>\n",
       "    <tr>\n",
       "      <th>SVR_poly</th>\n",
       "      <td>0.857321</td>\n",
       "      <td>1.723845</td>\n",
       "      <td>1.312953</td>\n",
       "      <td>0.809012</td>\n",
       "    </tr>\n",
       "  </tbody>\n",
       "</table>\n",
       "</div>"
      ],
      "text/plain": [
       "                                MAE       MSE      RMSE  R2_Square\n",
       "SVR_rbf                    0.806362  1.487032  1.219439   0.835249\n",
       "RandomForestRegressor      0.808405  1.320408  1.149090   0.853710\n",
       "LinearRegression           0.819120  1.303924  1.141895   0.855536\n",
       "GradientBoostingRegressor  0.846680  1.515467  1.231043   0.832099\n",
       "SVR_poly                   0.857321  1.723845  1.312953   0.809012"
      ]
     },
     "metadata": {},
     "output_type": "display_data"
    },
    {
     "name": "stdout",
     "output_type": "stream",
     "text": [
      "LabelEncoder Dataset\n"
     ]
    },
    {
     "data": {
      "text/html": [
       "<div>\n",
       "<style scoped>\n",
       "    .dataframe tbody tr th:only-of-type {\n",
       "        vertical-align: middle;\n",
       "    }\n",
       "\n",
       "    .dataframe tbody tr th {\n",
       "        vertical-align: top;\n",
       "    }\n",
       "\n",
       "    .dataframe thead th {\n",
       "        text-align: right;\n",
       "    }\n",
       "</style>\n",
       "<table border=\"1\" class=\"dataframe\">\n",
       "  <thead>\n",
       "    <tr style=\"text-align: right;\">\n",
       "      <th></th>\n",
       "      <th>MAE</th>\n",
       "      <th>MSE</th>\n",
       "      <th>RMSE</th>\n",
       "      <th>R2_Square</th>\n",
       "    </tr>\n",
       "  </thead>\n",
       "  <tbody>\n",
       "    <tr>\n",
       "      <th>RandomForestRegressor</th>\n",
       "      <td>0.772577</td>\n",
       "      <td>1.134820</td>\n",
       "      <td>1.065279</td>\n",
       "      <td>0.874271</td>\n",
       "    </tr>\n",
       "    <tr>\n",
       "      <th>LinearRegression</th>\n",
       "      <td>0.799074</td>\n",
       "      <td>1.252246</td>\n",
       "      <td>1.119038</td>\n",
       "      <td>0.861261</td>\n",
       "    </tr>\n",
       "    <tr>\n",
       "      <th>SVR_rbf</th>\n",
       "      <td>0.807649</td>\n",
       "      <td>1.497811</td>\n",
       "      <td>1.223851</td>\n",
       "      <td>0.834055</td>\n",
       "    </tr>\n",
       "    <tr>\n",
       "      <th>GradientBoostingRegressor</th>\n",
       "      <td>0.824949</td>\n",
       "      <td>1.387739</td>\n",
       "      <td>1.178023</td>\n",
       "      <td>0.846250</td>\n",
       "    </tr>\n",
       "    <tr>\n",
       "      <th>SVR_poly</th>\n",
       "      <td>0.847051</td>\n",
       "      <td>1.632308</td>\n",
       "      <td>1.277618</td>\n",
       "      <td>0.819153</td>\n",
       "    </tr>\n",
       "  </tbody>\n",
       "</table>\n",
       "</div>"
      ],
      "text/plain": [
       "                                MAE       MSE      RMSE  R2_Square\n",
       "RandomForestRegressor      0.772577  1.134820  1.065279   0.874271\n",
       "LinearRegression           0.799074  1.252246  1.119038   0.861261\n",
       "SVR_rbf                    0.807649  1.497811  1.223851   0.834055\n",
       "GradientBoostingRegressor  0.824949  1.387739  1.178023   0.846250\n",
       "SVR_poly                   0.847051  1.632308  1.277618   0.819153"
      ]
     },
     "metadata": {},
     "output_type": "display_data"
    }
   ],
   "source": [
    "sortting = 'MAE'\n",
    "print('Dummies Dataset')\n",
    "display(dummy_df_performance.sort_values(sortting))\n",
    "print('LabelEncoder Dataset')\n",
    "display(le_df_performance.sort_values(sortting))"
   ]
  }
 ],
 "metadata": {
  "interpreter": {
   "hash": "1d21be950558f057833ba31092b5d3c13bf94615482a5dce88e5e5cb34e28ccf"
  },
  "kernelspec": {
   "display_name": "Python 3.9.7 64-bit ('studentperformance': conda)",
   "language": "python",
   "name": "python3"
  },
  "language_info": {
   "codemirror_mode": {
    "name": "ipython",
    "version": 3
   },
   "file_extension": ".py",
   "mimetype": "text/x-python",
   "name": "python",
   "nbconvert_exporter": "python",
   "pygments_lexer": "ipython3",
   "version": "3.9.7"
  },
  "orig_nbformat": 4
 },
 "nbformat": 4,
 "nbformat_minor": 2
}
